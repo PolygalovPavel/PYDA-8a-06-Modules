{
 "cells": [
  {
   "cell_type": "markdown",
   "metadata": {},
   "source": [
    "# Домашнее задание\n",
    "1. Переведите содержимое файла purchase_log.txt в словарь purchases вида:\n",
    "```python\n",
    "{'1840e0b9d4': 'Продукты', ...}\n",
    "```\n",
    "\n",
    "2. Для каждого user_id в файле visit_log.csv определите третий столбец с категорией покупки (если покупка была, сам файл visit_log.csv изменять не надо). Запишите в файл funnel.csv визиты из файла visit_log.csv, в которых были покупки с указанием категории.\n",
    "\n",
    "Учтите условия на данные:\n",
    "- содержимое purchase_log.txt помещается в оперативную память компьютера\n",
    "- содержимое visit_log.csv - нет; используйте только построчную обработку этого файла"
   ]
  },
  {
   "cell_type": "code",
   "execution_count": null,
   "metadata": {},
   "outputs": [],
   "source": [
    "# Задание 1\n",
    "from datetime import datetime\n",
    "import json\n",
    "\n",
    "#count_line = int(input('Введите количество строк для копирования: '))\n",
    "\n",
    "print(f\"start: {datetime.now()}\") \n",
    "\n",
    "purchases = {}\n",
    "#check = 0\n",
    "without_first = 0\n",
    "with open('purchase_log.txt') as f:\n",
    "    for line in f:\n",
    "        if without_first == 0:\n",
    "            without_first += 1\n",
    "        else:\n",
    "            line = line.strip()\n",
    "            temp_dict = json.loads(line)\n",
    "            purchases[temp_dict['user_id']] = temp_dict['category']\n",
    "            #print(temp_dict, type(temp_dict))\n",
    "            #check += 1\n",
    "            #if check > count_line:\n",
    "            #    break\n",
    "print('Данные успешно загружены')                \n",
    "#print(purchases)\n",
    "print(f\"finish: {datetime.now()}\") "
   ]
  },
  {
   "cell_type": "code",
   "execution_count": null,
   "metadata": {},
   "outputs": [],
   "source": [
    "# Для каждого user_id в файле visit_log.csv определите третий столбец с категорией покупки \n",
    "# (если покупка была, сам файл visit_log.csv изменять не надо). Запишите в файл funnel.csv \n",
    "# визиты из файла visit_log.csv, в которых были покупки с указанием категории.\n",
    "\n",
    "f = open('visit_log.csv', 'r')\n",
    "t = open('funnel.csv', 'w')\n",
    "without_first = 0\n",
    "check = 0\n",
    "for line in f:\n",
    "    print(line)\n",
    "    if without_first == 0:\n",
    "        without_first += 1\n",
    "        t.write(f\"{line.strip()},category\\n\")\n",
    "    else:\n",
    "        check += 1\n",
    "        temp_list = line.strip().split(',')\n",
    "        if temp_list[0] in purchases:\n",
    "            purchases[temp_list[0]]\n",
    "            t.write(f\"{temp_list[0]},{temp_list[1]},{purchases[temp_list[0]]}\\n\")\n",
    "t.close()"
   ]
  },
  {
   "cell_type": "code",
   "execution_count": null,
   "metadata": {},
   "outputs": [],
   "source": []
  }
 ],
 "metadata": {
  "kernelspec": {
   "display_name": "Python 3",
   "language": "python",
   "name": "python3"
  },
  "language_info": {
   "codemirror_mode": {
    "name": "ipython",
    "version": 3
   },
   "file_extension": ".py",
   "mimetype": "text/x-python",
   "name": "python",
   "nbconvert_exporter": "python",
   "pygments_lexer": "ipython3",
   "version": "3.7.6"
  }
 },
 "nbformat": 4,
 "nbformat_minor": 2
}
